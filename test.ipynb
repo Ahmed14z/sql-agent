{
 "cells": [
  {
   "cell_type": "code",
   "execution_count": null,
   "metadata": {},
   "outputs": [],
   "source": [
    "from sqlagent.agent import SQLAgent\n",
    "\n",
    "agent = SQLAgent(\n",
    "    db_url=os.getenv(\"DATABASE_URL\", \"\"),\n",
    "    api_key=os.getenv(\"OPENAI_API_KEY\", \"\"),\n",
    "    object_index_dir=\"./object_index\",\n",
    "    model=\"gpt-3.5-turbo\",\n",
    ")"
   ]
  }
 ],
 "metadata": {
  "language_info": {
   "name": "python"
  }
 },
 "nbformat": 4,
 "nbformat_minor": 2
}
